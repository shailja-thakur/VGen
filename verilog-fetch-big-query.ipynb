{
 "cells": [
  {
   "cell_type": "code",
   "execution_count": 1,
   "id": "3ef77e08-512a-4513-a8b1-6ce23b6b77a1",
   "metadata": {},
   "outputs": [],
   "source": [
    "import os\n",
    "import pandas as pd"
   ]
  },
  {
   "cell_type": "code",
   "execution_count": 2,
   "id": "57e1e3cf-6fa6-438f-b6be-2353e7ffa616",
   "metadata": {},
   "outputs": [],
   "source": [
    "\n",
    "#https://stackoverflow.com/questions/36183486/importerror-no-module-named-google\n",
    "\n",
    "%load_ext google.cloud.bigquery"
   ]
  },
  {
   "cell_type": "code",
   "execution_count": 3,
   "id": "48676cf4-1f68-4c4f-8b4f-5350a353f615",
   "metadata": {},
   "outputs": [],
   "source": [
    "from google.cloud import bigquery\n",
    "\n"
   ]
  },
  {
   "cell_type": "code",
   "execution_count": 4,
   "id": "8221481b-d975-46c0-8cc2-09da9a4bab3d",
   "metadata": {
    "tags": []
   },
   "outputs": [],
   "source": [
    "#Your credentials to google cloud\n",
    "os.environ[\"GOOGLE_APPLICATION_CREDENTIALS\"]=r\"my-project-348716-29f69b900233.json\"\n",
    "# git token\n",
    "TOKEN = \"\"  # Replace with your token\n"
   ]
  },
  {
   "cell_type": "code",
   "execution_count": 5,
   "id": "f588c6f4-78e4-4bb1-a705-7875c8f3c417",
   "metadata": {},
   "outputs": [],
   "source": [
    "bqclient = bigquery.Client()\n",
    "\n"
   ]
  },
  {
   "cell_type": "code",
   "execution_count": 6,
   "id": "b5240cff-2c08-4788-a192-3f543aca3876",
   "metadata": {
    "tags": []
   },
   "outputs": [
    {
     "name": "stdout",
     "output_type": "stream",
     "text": [
      "   answer_id                                               body\n",
      "0   56573639  <p>I replaced the Verilog module with a System...\n",
      "1   56465607  <p>This is an unimplemented feature of SystemV...\n",
      "2   56519429  <p>Verilog simulation is event driven. Event i...\n",
      "3   56773222  <p>It is illegal to use Verilog Hierarchical R...\n",
      "4   56860718  <p><code>Div_num_tb</code> has been defined as...\n"
     ]
    }
   ],
   "source": [
    "# Download query results.\n",
    "# query_string = \"\"\"\n",
    "# SELECT\n",
    "# CONCAT(\n",
    "#     'https://stackoverflow.com/questions/',\n",
    "#     CAST(id as STRING)) as url,\n",
    "# view_count\n",
    "# FROM `bigquery-public-data.stackoverflow.posts_questions`\n",
    "# WHERE tags like '%google-bigquery%'\n",
    "# ORDER BY view_count DESC\n",
    "# \"\"\"\n",
    "\n",
    "query_string = \"\"\"\n",
    "SELECT\n",
    "q.tags question_tag, q.id question_id, q.title question_title, q.body question_body, p.id answer_id, p.body\n",
    "FROM `bigquery-public-data.stackoverflow.posts_questions` as q \n",
    "LEFT JOIN `bigquery-public-data.stackoverflow.posts_answers` as p\n",
    "ON p.parent_id = q.id\n",
    "WHERE p.body LIKE '%Verilog%'\n",
    "LIMIT 100000;\n",
    "\"\"\"\n",
    "\n",
    "query_string = \"\"\"\n",
    "SELECT\n",
    "p.id answer_id, p.body FROM `bigquery-public-data.stackoverflow.posts_answers` as p\n",
    "WHERE p.body LIKE '%Verilog%'\n",
    "\"\"\"\n",
    "# where regexp_contains(q.tags, 'Verilog')\n",
    "# WHERE tags like '%Verilog%'\n",
    "dataframe = (\n",
    "    bqclient.query(query_string)\n",
    "    .result()\n",
    "    .to_dataframe(\n",
    "        # Optionally, explicitly request to use the BigQuery Storage API. As of\n",
    "        # google-cloud-bigquery version 1.26.0 and above, the BigQuery Storage\n",
    "        # API is used by default.\n",
    "        create_bqstorage_client=True,\n",
    "    )\n",
    ")\n",
    "print(dataframe.head())"
   ]
  },
  {
   "cell_type": "code",
   "execution_count": 26,
   "id": "116cfa53-f1ed-454a-a096-c78287109a5d",
   "metadata": {},
   "outputs": [
    {
     "data": {
      "text/plain": [
       "(2986, 2)"
      ]
     },
     "execution_count": 26,
     "metadata": {},
     "output_type": "execute_result"
    }
   ],
   "source": [
    "dataframe.shape"
   ]
  },
  {
   "cell_type": "code",
   "execution_count": 9,
   "id": "c2c8856f-a8c8-4922-8a77-6ab36692f834",
   "metadata": {},
   "outputs": [],
   "source": [
    "query_string=\"\"\"\n",
    "SELECT f.repo_name, f.path, c.copies, c.size, c.content\n",
    " FROM `bigquery-public-data.github_repos.files` AS f \n",
    " JOIN `bigquery-public-data.github_repos.contents` AS c \n",
    " ON f.id = c.id \n",
    " WHERE \n",
    " NOT c.binary \n",
    " AND ((f.path LIKE '%.v') \n",
    " AND (c.content LIKE '%endmodule%'\n",
    " OR c.content LIKE '%always%')\n",
    " AND (c.size BETWEEN 10 \n",
    " AND 1048575))\n",
    "\"\"\""
   ]
  },
  {
   "cell_type": "code",
   "execution_count": 6,
   "id": "10fca84c-e646-465e-9508-fbe97a5b252a",
   "metadata": {},
   "outputs": [],
   "source": [
    "query_string=\"\"\"\n",
    "select q.tags question_tag, q.id question_id, q.title question_title, q.body question_body, a.id answer_id, a.body from `bigquery-public-data.stackoverflow.posts_questions` as q\n",
    "left join\n",
    "`bigquery-public-data.stackoverflow.posts_answers` as a\n",
    "on a.parent_id = q.id\n",
    "where regexp_contains(q.tags, 'Verilog');\n",
    "\"\"\""
   ]
  },
  {
   "cell_type": "code",
   "execution_count": 7,
   "id": "d2e0c047-3473-462c-a704-d538fa2804dd",
   "metadata": {},
   "outputs": [],
   "source": [
    "def query(query_string):\n",
    "    \n",
    "    dataframe = (\n",
    "        bqclient.query(query_string)\n",
    "        .result()\n",
    "        .to_dataframe(\n",
    "            # Optionally, explicitly request to use the BigQuery Storage API. As of\n",
    "            # google-cloud-bigquery version 1.26.0 and above, the BigQuery Storage\n",
    "            # API is used by default.\n",
    "            create_bqstorage_client=True,\n",
    "        )\n",
    "    )\n",
    "    print(dataframe.head())\n",
    "    \n",
    "    return dataframe"
   ]
  },
  {
   "cell_type": "code",
   "execution_count": 7,
   "id": "72bc95e4-d566-46c3-aeef-b5f86dd40c8a",
   "metadata": {},
   "outputs": [
    {
     "ename": "NameError",
     "evalue": "name 'dataframe' is not defined",
     "output_type": "error",
     "traceback": [
      "\u001b[0;31m---------------------------------------------------------------------------\u001b[0m",
      "\u001b[0;31mNameError\u001b[0m                                 Traceback (most recent call last)",
      "Input \u001b[0;32mIn [7]\u001b[0m, in \u001b[0;36m<cell line: 1>\u001b[0;34m()\u001b[0m\n\u001b[0;32m----> 1\u001b[0m \u001b[43mdataframe\u001b[49m\u001b[38;5;241m.\u001b[39mshape\n",
      "\u001b[0;31mNameError\u001b[0m: name 'dataframe' is not defined"
     ]
    }
   ],
   "source": [
    "dataframe.shape"
   ]
  },
  {
   "cell_type": "code",
   "execution_count": 24,
   "id": "09f68c63-5d83-4aa6-9e9c-7f25c42cd655",
   "metadata": {},
   "outputs": [],
   "source": [
    "dataframe.to_csv( '/Volumes/GoogleDrive/My Drive/sg0_workspace/datasets/verilog_github_contains_always_module_multicopies.csv',index=False)"
   ]
  },
  {
   "cell_type": "code",
   "execution_count": 28,
   "id": "b8c6c204-0e8f-4829-a81a-8bb9af50bf68",
   "metadata": {},
   "outputs": [],
   "source": [
    "dataframe.to_csv( '/Volumes/GoogleDrive/My Drive/sg0_workspace/datasets/verilog_github_contains_always_module.csv',index=False)"
   ]
  },
  {
   "cell_type": "code",
   "execution_count": 32,
   "id": "cfffcec3-2d8e-4a65-af2e-3ea22e1b0ce5",
   "metadata": {},
   "outputs": [],
   "source": [
    "dataframe.to_csv( '/Volumes/GoogleDrive/My Drive/sg0_workspace/datasets/verilog_github_contains_always_or_endmodule.csv',index=False)"
   ]
  },
  {
   "cell_type": "code",
   "execution_count": 8,
   "id": "42c2855c-323f-476b-a4ef-74c1e7bed80c",
   "metadata": {},
   "outputs": [],
   "source": [
    "query_string= \"\"\"SELECT language\n",
    "            FROM `bigquery-public-data.github_repos.languages`\n",
    "            \n",
    "        \"\"\""
   ]
  },
  {
   "cell_type": "code",
   "execution_count": 9,
   "id": "fdfec0a1-d745-487c-b996-30c24ba0a5d8",
   "metadata": {
    "tags": []
   },
   "outputs": [
    {
     "name": "stdout",
     "output_type": "stream",
     "text": [
      "                                            language\n",
      "0                     [{'name': 'C', 'bytes': 1466}]\n",
      "1                    [{'name': 'C', 'bytes': 93643}]\n",
      "2  [{'name': 'C', 'bytes': 115}, {'name': 'C#', '...\n",
      "3  [{'name': 'C', 'bytes': 2984677}, {'name': 'C#...\n",
      "4  [{'name': 'C', 'bytes': 260567}, {'name': 'C#'...\n"
     ]
    }
   ],
   "source": [
    "dataframe=query(query_string)"
   ]
  },
  {
   "cell_type": "code",
   "execution_count": 10,
   "id": "e2370d57-b06f-4584-8dc8-299e46b37d09",
   "metadata": {},
   "outputs": [
    {
     "data": {
      "text/plain": [
       "(3325634, 1)"
      ]
     },
     "execution_count": 10,
     "metadata": {},
     "output_type": "execute_result"
    }
   ],
   "source": [
    "dataframe.shape"
   ]
  },
  {
   "cell_type": "code",
   "execution_count": 11,
   "id": "3a145cdc-10c2-4a82-9110-b3cf0bc61e38",
   "metadata": {},
   "outputs": [
    {
     "data": {
      "text/plain": [
       "language    [{'name': 'Objective-C', 'bytes': 51245}, {'na...\n",
       "Name: 3325633, dtype: object"
      ]
     },
     "execution_count": 11,
     "metadata": {},
     "output_type": "execute_result"
    }
   ],
   "source": [
    "dataframe.iloc[-1]"
   ]
  },
  {
   "cell_type": "code",
   "execution_count": 13,
   "id": "8bcf01e2-fcbe-48b5-80d9-5dd0f0ad3a37",
   "metadata": {},
   "outputs": [],
   "source": [
    "Languages_count={}\n",
    "for lang in languagesList:\n",
    "    if lang[\"name\"] not in Languages_count:\n",
    "        Languages_count[lang[\"name\"]]=0\n",
    "    Languages_count[lang[\"name\"]]+=1\n",
    "#Languages_count"
   ]
  },
  {
   "cell_type": "code",
   "execution_count": 14,
   "id": "cdd93cc5-00b6-495a-b1ae-89c7746d8144",
   "metadata": {},
   "outputs": [
    {
     "data": {
      "text/plain": [
       "0.00038102945305371446"
      ]
     },
     "execution_count": 14,
     "metadata": {},
     "output_type": "execute_result"
    }
   ],
   "source": [
    "2987/sum(Languages_count.values())"
   ]
  },
  {
   "cell_type": "code",
   "execution_count": 12,
   "id": "d4bcab84-a123-4340-b0f2-aa78af92ba88",
   "metadata": {},
   "outputs": [
    {
     "data": {
      "text/plain": [
       "[{'name': 'C', 'bytes': 1466},\n",
       " {'name': 'C', 'bytes': 93643},\n",
       " {'name': 'C', 'bytes': 115},\n",
       " {'name': 'C#', 'bytes': 1844},\n",
       " {'name': 'C++', 'bytes': 9653}]"
      ]
     },
     "execution_count": 12,
     "metadata": {},
     "output_type": "execute_result"
    }
   ],
   "source": [
    "\n",
    "languagesList=[]\n",
    "for lang in dataframe.language:\n",
    "    languagesList.extend(lang)\n",
    "languagesList[:5]"
   ]
  },
  {
   "cell_type": "code",
   "execution_count": 15,
   "id": "81828ab4-8751-45a5-953b-f1289e8e5f7a",
   "metadata": {
    "collapsed": true,
    "jupyter": {
     "outputs_hidden": true
    },
    "tags": []
   },
   "outputs": [
    {
     "data": {
      "text/plain": [
       "[('JavaScript', 1099966),\n",
       " ('CSS', 807826),\n",
       " ('HTML', 777433),\n",
       " ('Shell', 640886),\n",
       " ('Python', 550905),\n",
       " ('Ruby', 374276),\n",
       " ('Java', 369673),\n",
       " ('PHP', 339426),\n",
       " ('C', 293231),\n",
       " ('C++', 277871),\n",
       " ('Makefile', 251366),\n",
       " ('Objective-C', 166961),\n",
       " ('C#', 133110),\n",
       " ('Perl', 101533),\n",
       " ('Batchfile', 97868),\n",
       " ('Go', 91867),\n",
       " ('CoffeeScript', 68589),\n",
       " ('ApacheConf', 68500),\n",
       " ('CMake', 56754),\n",
       " ('TypeScript', 48027),\n",
       " ('Assembly', 47681),\n",
       " ('Swift', 42605),\n",
       " ('Scala', 34562),\n",
       " ('Lua', 34431),\n",
       " ('PowerShell', 33176),\n",
       " ('ASP', 32781),\n",
       " ('XSLT', 32226),\n",
       " ('TeX', 31554),\n",
       " ('Haskell', 30061),\n",
       " ('R', 29356),\n",
       " ('Groovy', 27229),\n",
       " ('Dockerfile', 27176),\n",
       " ('Clojure', 25896),\n",
       " ('Groff', 25635),\n",
       " ('Awk', 20625),\n",
       " ('Arduino', 20424),\n",
       " ('VimL', 18977),\n",
       " ('Objective-C++', 17946),\n",
       " ('Matlab', 17524),\n",
       " ('QMake', 17506),\n",
       " ('Smarty', 17346),\n",
       " ('Jupyter Notebook', 17332),\n",
       " ('Emacs Lisp', 16755),\n",
       " ('Rust', 15907),\n",
       " ('M4', 15776),\n",
       " ('Puppet', 14936),\n",
       " ('Erlang', 14909),\n",
       " ('GLSL', 13904),\n",
       " ('Yacc', 13695),\n",
       " ('Scilab', 13050),\n",
       " ('Lex', 12506),\n",
       " ('Roff', 12132),\n",
       " ('Protocol Buffer', 11668),\n",
       " ('Prolog', 11119),\n",
       " ('Visual Basic', 10464),\n",
       " ('Pascal', 10137),\n",
       " ('SCSS', 9538),\n",
       " ('UnrealScript', 9503),\n",
       " ('PLpgSQL', 9235),\n",
       " ('Vim script', 9233),\n",
       " ('SourcePawn', 9036),\n",
       " ('ActionScript', 8755),\n",
       " ('Vue', 8671),\n",
       " ('Nginx', 8516),\n",
       " ('Tcl', 8131),\n",
       " ('NSIS', 8081),\n",
       " ('Kotlin', 7977),\n",
       " ('Handlebars', 7670),\n",
       " ('Cucumber', 7402),\n",
       " ('Scheme', 7241),\n",
       " ('D', 7196),\n",
       " ('Elixir', 6819),\n",
       " ('Processing', 6774),\n",
       " ('PLSQL', 6752),\n",
       " ('Julia', 5897),\n",
       " ('F#', 5888),\n",
       " ('Dart', 5791),\n",
       " ('Common Lisp', 5682),\n",
       " ('OCaml', 5645),\n",
       " ('Smalltalk', 5589),\n",
       " ('IDL', 5299),\n",
       " ('Perl6', 5279),\n",
       " ('QML', 5251),\n",
       " ('SQLPL', 5121),\n",
       " ('M', 4903),\n",
       " ('Gherkin', 4862),\n",
       " ('Logos', 4502),\n",
       " ('Cuda', 4402),\n",
       " ('Mako', 4336),\n",
       " ('PostScript', 4144),\n",
       " ('GAP', 4091),\n",
       " ('AppleScript', 4086),\n",
       " ('DIGITAL Command Language', 3839),\n",
       " ('Racket', 3766),\n",
       " ('Inno Setup', 3731),\n",
       " ('SuperCollider', 3718),\n",
       " ('FORTRAN', 3716),\n",
       " ('Bison', 3639),\n",
       " ('FreeMarker', 3567),\n",
       " ('Thrift', 3525),\n",
       " ('Hack', 3310),\n",
       " ('Haxe', 3309),\n",
       " ('Gnuplot', 3222),\n",
       " ('TSQL', 3114),\n",
       " ('HCL', 3068),\n",
       " ('Verilog', 2987),\n",
       " ('DOT', 2950),\n",
       " ('Less', 2935),\n",
       " ('ANTLR', 2881),\n",
       " ('Elm', 2865),\n",
       " ('MATLAB', 2856),\n",
       " ('Fortran', 2841),\n",
       " ('Nix', 2761),\n",
       " ('XML', 2697),\n",
       " ('Mathematica', 2671),\n",
       " ('GDB', 2630),\n",
       " ('OpenEdge ABL', 2568),\n",
       " ('Standard ML', 2391),\n",
       " ('LiveScript', 2270),\n",
       " ('Ada', 2176),\n",
       " ('VHDL', 2100),\n",
       " ('DTrace', 2080),\n",
       " ('Eagle', 2068),\n",
       " ('ColdFusion', 2064),\n",
       " ('Vala', 2048),\n",
       " ('Perl 6', 1965),\n",
       " ('XS', 1950),\n",
       " ('Forth', 1918),\n",
       " ('OpenSCAD', 1782),\n",
       " ('Vim Script', 1754),\n",
       " ('SaltStack', 1677),\n",
       " ('HLSL', 1657),\n",
       " ('Rebol', 1648),\n",
       " ('AutoHotkey', 1476),\n",
       " ('SAS', 1352),\n",
       " ('LLVM', 1345),\n",
       " ('Module Management System', 1324),\n",
       " ('Procfile', 1317),\n",
       " ('Starlark', 1250),\n",
       " ('ShaderLab', 1214),\n",
       " ('Crystal', 1198),\n",
       " ('Meson', 1184),\n",
       " ('XQuery', 1178),\n",
       " ('Jinja', 1101),\n",
       " ('KiCad', 1098),\n",
       " ('sed', 1093),\n",
       " ('SystemVerilog', 1060),\n",
       " ('BitBake', 1043),\n",
       " ('Stata', 1030),\n",
       " ('Max', 1029),\n",
       " ('Liquid', 1028),\n",
       " ('Coq', 1006),\n",
       " ('Rich Text Format', 1001),\n",
       " ('CLIPS', 993),\n",
       " ('eC', 920),\n",
       " ('Twig', 918),\n",
       " ('Pure Data', 915),\n",
       " ('Ragel in Ruby Host', 908),\n",
       " ('GCC Machine Description', 875),\n",
       " ('AMPL', 853),\n",
       " ('FLUX', 852),\n",
       " ('Xtend', 836),\n",
       " ('Brainfuck', 831),\n",
       " ('PureScript', 827),\n",
       " ('NewLisp', 814),\n",
       " ('API Blueprint', 810),\n",
       " ('AspectJ', 792),\n",
       " ('Apex', 777),\n",
       " ('EJS', 760),\n",
       " ('Eiffel', 723),\n",
       " (\"Cap'n Proto\", 694),\n",
       " ('GDScript', 694),\n",
       " ('Mustache', 692),\n",
       " ('AGS Script', 675),\n",
       " ('COBOL', 666),\n",
       " ('Cython', 661),\n",
       " ('Raku', 651),\n",
       " ('AutoIt', 650),\n",
       " ('PureBasic', 649),\n",
       " ('Gettext Catalog', 649),\n",
       " ('Mercury', 644),\n",
       " ('SQL', 641),\n",
       " ('Web Ontology Language', 641),\n",
       " ('Pug', 637),\n",
       " ('Io', 622),\n",
       " ('SQF', 609),\n",
       " ('PigLatin', 607),\n",
       " ('Nimrod', 601),\n",
       " ('Mask', 595),\n",
       " ('ASP.NET', 585),\n",
       " ('Diff', 560),\n",
       " ('SWIG', 549),\n",
       " ('Modelica', 544),\n",
       " ('Gosu', 543),\n",
       " ('Sass', 518),\n",
       " ('RobotFramework', 517),\n",
       " ('Vim Snippet', 516),\n",
       " ('POV-Ray SDL', 505),\n",
       " ('Haml', 501),\n",
       " ('PAWN', 500)]"
      ]
     },
     "execution_count": 15,
     "metadata": {},
     "output_type": "execute_result"
    }
   ],
   "source": [
    "import operator\n",
    "sorted_Languages_counts = sorted(Languages_count.items(), key=operator.itemgetter(1),reverse=True)\n",
    "sorted_Languages_counts[:200]"
   ]
  },
  {
   "cell_type": "code",
   "execution_count": null,
   "id": "9d65abe6-8f38-4e62-a3bb-ce6ef43653c3",
   "metadata": {},
   "outputs": [],
   "source": []
  },
  {
   "cell_type": "code",
   "execution_count": 16,
   "id": "a5421f1e-f62d-4288-aefa-c8f8db0f7ebb",
   "metadata": {
    "collapsed": true,
    "jupyter": {
     "outputs_hidden": true
    },
    "tags": []
   },
   "outputs": [
    {
     "data": {
      "text/plain": [
       "Text(0.5, 1.0, 'Language Popularity Score')"
      ]
     },
     "execution_count": 16,
     "metadata": {},
     "output_type": "execute_result"
    },
    {
     "data": {
      "image/png": "[encoded data removed]",
      "text/plain": [
       "<Figure size 720x2160 with 1 Axes>"
      ]
     },
     "metadata": {
      "needs_background": "light"
     },
     "output_type": "display_data"
    }
   ],
   "source": [
    "import numpy as np\n",
    "import matplotlib.pyplot as plt\n",
    "import seaborn as sns\n",
    "language = list(zip(*sorted_Languages_counts[:10]))[0]\n",
    "count = list(zip(*sorted_Languages_counts[:10]))[1]\n",
    "x_pos = np.arange(len(language))\n",
    "\n",
    "\n",
    "# calculate slope and intercept for the linear trend line\n",
    "slope, intercept = np.polyfit(x_pos, count, 1)\n",
    "trendline = intercept + (slope * x_pos)\n",
    "plt.figure(figsize=(10,30))\n",
    "# plt.plot(x_pos, trendline, color='black', linestyle='--')    \n",
    "plt.barh(x_pos, count,align='center',color=sns.color_palette(\"gist_rainbow\",len(x_pos)))\n",
    "plt.xticks(x_pos, language,rotation=45) \n",
    "plt.title('Language Popularity Score')\n",
    "# plt.savefig('github-language-popularity.png');"
   ]
  },
  {
   "cell_type": "code",
   "execution_count": 24,
   "id": "29ef1537-8c73-4581-8029-d7feddcbc0ee",
   "metadata": {
    "collapsed": true,
    "jupyter": {
     "outputs_hidden": true
    },
    "tags": []
   },
   "outputs": [
    {
     "name": "stdout",
     "output_type": "stream",
     "text": [
      "[('JavaScript', 1099966), ('CSS', 807826), ('HTML', 777433), ('Shell', 640886), ('Python', 550905), ('Ruby', 374276), ('Java', 369673), ('PHP', 339426), ('C', 293231), ('C++', 277871), ('Makefile', 251366), ('Objective-C', 166961), ('C#', 133110), ('Perl', 101533), ('Batchfile', 97868), ('Go', 91867), ('CoffeeScript', 68589), ('ApacheConf', 68500), ('CMake', 56754), ('TypeScript', 48027), ('Assembly', 47681), ('Swift', 42605), ('Scala', 34562), ('Lua', 34431), ('PowerShell', 33176), ('ASP', 32781), ('XSLT', 32226), ('TeX', 31554), ('Haskell', 30061), ('R', 29356), ('Groovy', 27229), ('Dockerfile', 27176), ('Clojure', 25896), ('Groff', 25635), ('Awk', 20625), ('Arduino', 20424), ('VimL', 18977), ('Objective-C++', 17946), ('Matlab', 17524), ('QMake', 17506), ('Smarty', 17346), ('Jupyter Notebook', 17332), ('Emacs Lisp', 16755), ('Rust', 15907), ('M4', 15776), ('Puppet', 14936), ('Erlang', 14909), ('GLSL', 13904), ('Yacc', 13695), ('Scilab', 13050), ('Lex', 12506), ('Roff', 12132), ('Protocol Buffer', 11668), ('Prolog', 11119), ('Visual Basic', 10464), ('Pascal', 10137), ('SCSS', 9538), ('UnrealScript', 9503), ('PLpgSQL', 9235), ('Vim script', 9233), ('SourcePawn', 9036), ('ActionScript', 8755), ('Vue', 8671), ('Nginx', 8516), ('Tcl', 8131), ('NSIS', 8081), ('Kotlin', 7977), ('Handlebars', 7670), ('Cucumber', 7402), ('Scheme', 7241), ('D', 7196), ('Elixir', 6819), ('Processing', 6774), ('PLSQL', 6752), ('Julia', 5897), ('F#', 5888), ('Dart', 5791), ('Common Lisp', 5682), ('OCaml', 5645), ('Smalltalk', 5589), ('IDL', 5299), ('Perl6', 5279), ('QML', 5251), ('SQLPL', 5121), ('M', 4903), ('Gherkin', 4862), ('Logos', 4502), ('Cuda', 4402), ('Mako', 4336), ('PostScript', 4144), ('GAP', 4091), ('AppleScript', 4086), ('DIGITAL Command Language', 3839), ('Racket', 3766), ('Inno Setup', 3731), ('SuperCollider', 3718), ('FORTRAN', 3716), ('Bison', 3639), ('FreeMarker', 3567), ('Thrift', 3525), ('Hack', 3310), ('Haxe', 3309), ('Gnuplot', 3222), ('TSQL', 3114), ('HCL', 3068), ('Verilog', 2987), ('DOT', 2950), ('Less', 2935), ('ANTLR', 2881), ('Elm', 2865), ('MATLAB', 2856), ('Fortran', 2841), ('Nix', 2761), ('XML', 2697), ('Mathematica', 2671), ('GDB', 2630), ('OpenEdge ABL', 2568), ('Standard ML', 2391), ('LiveScript', 2270), ('Ada', 2176), ('VHDL', 2100), ('DTrace', 2080), ('Eagle', 2068), ('ColdFusion', 2064), ('Vala', 2048), ('Perl 6', 1965), ('XS', 1950), ('Forth', 1918), ('OpenSCAD', 1782), ('Vim Script', 1754), ('SaltStack', 1677), ('HLSL', 1657), ('Rebol', 1648), ('AutoHotkey', 1476), ('SAS', 1352), ('LLVM', 1345), ('Module Management System', 1324), ('Procfile', 1317), ('Starlark', 1250), ('ShaderLab', 1214), ('Crystal', 1198), ('Meson', 1184), ('XQuery', 1178), ('Jinja', 1101), ('KiCad', 1098), ('sed', 1093), ('SystemVerilog', 1060), ('BitBake', 1043), ('Stata', 1030), ('Max', 1029), ('Liquid', 1028), ('Coq', 1006), ('Rich Text Format', 1001), ('CLIPS', 993), ('eC', 920), ('Twig', 918), ('Pure Data', 915), ('Ragel in Ruby Host', 908), ('GCC Machine Description', 875), ('AMPL', 853), ('FLUX', 852), ('Xtend', 836), ('Brainfuck', 831), ('PureScript', 827), ('NewLisp', 814), ('API Blueprint', 810), ('AspectJ', 792), ('Apex', 777), ('EJS', 760), ('Eiffel', 723), (\"Cap'n Proto\", 694), ('GDScript', 694), ('Mustache', 692), ('AGS Script', 675), ('COBOL', 666), ('Cython', 661), ('Raku', 651), ('AutoIt', 650), ('PureBasic', 649), ('Gettext Catalog', 649), ('Mercury', 644), ('SQL', 641), ('Web Ontology Language', 641), ('Pug', 637), ('Io', 622), ('SQF', 609), ('PigLatin', 607), ('Nimrod', 601), ('Mask', 595), ('ASP.NET', 585), ('Diff', 560), ('SWIG', 549), ('Modelica', 544), ('Gosu', 543), ('Sass', 518), ('RobotFramework', 517), ('Vim Snippet', 516), ('POV-Ray SDL', 505), ('Haml', 501), ('PAWN', 500), ('BlitzBasic', 487), ('Nim', 476), ('RAML', 473), ('nesC', 470), ('Arc', 467), ('EmberScript', 460), ('ABAP', 450), ('XC', 444), ('Lasso', 434), ('Squirrel', 433), ('Game Maker Language', 431), ('Slash', 430), ('VCL', 429), ('JSONiq', 422), ('Blade', 411), ('RenderScript', 405), ('LSL', 396), ('DM', 394), ('Nu', 378), ('Stylus', 374), ('Limbo', 369), ('MoonScript', 359), ('LabVIEW', 357), ('VBScript', 356), ('xBase', 351), ('NASL', 349), ('Volt', 349), ('Pawn', 347), ('CartoCSS', 341), ('Objective-J', 341), ('Visual Basic .NET', 339), ('MAXScript', 335), ('Ragel', 321), ('E', 305), ('Idris', 304), ('LilyPond', 299), ('Augeas', 293), ('Nemerle', 288), ('Cirru', 288), ('AngelScript', 287), ('Clarion', 279), ('1C Enterprise', 276), ('YASnippet', 267), ('Lean', 267), ('Clean', 264), ('Metal', 260), ('Boo', 241), ('Delphi', 240), ('Slim', 234), ('XProc', 223), ('Smali', 213), ('LookML', 210), ('Terra', 208), ('Agda', 208), ('VBA', 206), ('Jasmin', 204), ('Jsonnet', 201), ('Hy', 181), ('RPC', 172), ('q', 171), ('WebAssembly', 169), ('Turing', 168), ('Ceylon', 168), ('SRecode Template', 162), ('Frege', 159), ('NetLogo', 154), ('Stan', 154), ('J', 152), ('Pan', 150), ('Bro', 149), ('SMT', 148), ('HiveQL', 146), ('Zephir', 142), ('Isabelle', 140), ('SmPL', 131), ('Nunjucks', 131), ('Component Pascal', 131), ('Propeller Spin', 129), ('Click', 127), ('ooc', 126), ('Parrot', 121), ('WebIDL', 120), ('Monkey', 117), ('Modula-2', 116), ('Fancy', 115), ('Genshi', 115), ('AIDL', 113), ('Dylan', 113), ('G-code', 112), ('Factor', 112), ('LOLCODE', 109), ('Redcode', 109), ('Pike', 106), ('Rascal', 105), ('PicoLisp', 101), ('Red', 100), ('Brightscript', 98), ('APL', 97), ('ChucK', 95), ('Csound Document', 93), ('Alloy', 91), ('Sage', 91), ('TLA', 90), ('Solidity', 88), ('Svelte', 88), ('Harbour', 86), ('Pony', 80), ('IGOR Pro', 80), ('Papyrus', 80), ('REXX', 78), ('Common Workflow Language', 75), ('HyPhy', 73), ('Oz', 72), ('mupad', 72), ('BASIC', 72), ('Fluent', 71), ('Xojo', 68), ('Graphviz (DOT)', 68), ('Cycript', 67), ('PEG.js', 67), ('Kit', 67), ('Csound', 66), ('KiCad Layout', 66), ('NCL', 65), ('Csound Score', 64), ('UrWeb', 62), ('Nextflow', 62), ('Inform 7', 61), ('Classic ASP', 61), ('Dhall', 60), ('Myghty', 60), ('Opa', 59), ('StringTemplate', 59), ('ReScript', 57), ('Chapel', 56), ('Cool', 56), ('CWeb', 55), ('Logtalk', 53), ('BlitzMax', 53), ('mIRC Script', 53), ('Euphoria', 52), ('Bluespec', 51), ('GAMS', 49), (\"Ren'Py\", 49), ('YARA', 48), ('jq', 47), ('ATS', 46), ('V', 45), ('Mirah', 43), ('FreeBasic', 43), ('ASL', 42), ('Ioke', 42), ('MQL5', 40), ('MQL4', 40), ('P4', 39), ('Fantom', 39), ('JFlex', 39), ('Zimpl', 37), ('Grammatical Framework', 37), ('Uno', 37), ('Oxygene', 35), ('MLIR', 34), ('Pep8', 33), ('XPages', 33), ('Nearley', 33), ('F*', 31), ('wdl', 31), ('Latte', 30), ('KRL', 30), ('Golo', 30), ('Qt Script', 29), ('Open Policy Agent', 29), ('kvlang', 29), ('DCPU-16 ASM', 28), ('Asymptote', 27), ('Dogescript', 27), ('Nit', 27), ('Closure Templates', 27), ('Self', 26), ('ImageJ Macro', 26), ('ECL', 25), ('Visual Basic 6.0', 25), ('NetLinx', 25), ('Reason', 25), ('Zig', 24), ('Ecl', 24), ('Moocode', 24), ('Promela', 24), ('wisp', 23), ('Ballerina', 22), ('Nasal', 22), ('Zeek', 22), ('JetBrains MPS', 22), ('TXL', 22), ('CodeQL', 20), ('Slice', 20), ('X10', 20), ('Filebench WML', 20), ('Modula-3', 20), ('Singularity', 20), ('GSC', 19), ('Faust', 19), ('Ox', 19), ('PowerBuilder', 19), ('ShellSession', 18), ('Earthly', 18), ('Monkey C', 17), ('AL', 17), ('OpenQASM', 17), ('Shen', 17), ('Genie', 17), ('Riot', 17), ('REALbasic', 17), ('Bicep', 17), ('Tea', 16), ('Fennel', 16), ('Jolie', 16), ('Grace', 15), ('LFE', 15), ('Genero Forms', 15), ('ObjectScript', 15), ('Genero', 14), ('YAML', 13), ('Astro', 13), ('Xonsh', 13), ('RouterOS Script', 12), ('MTML', 12), ('Motoko', 12), ('EQ', 12), ('Rouge', 12), ('Marko', 12), ('PogoScript', 12), ('CUE', 11), ('CAP CDS', 11), ('Sieve', 11), ('Kaitai Struct', 11), ('Glyph', 11), ('Mermaid', 10), ('Opal', 10), ('Cypher', 10), ('Charity', 10), ('Witcher Script', 9), ('Markdown', 9), ('HolyC', 9), ('DataWeave', 9), ('Scaml', 9), ('ZenScript', 8), ('Elvish', 8), ('Omgrofl', 8), ('Befunge', 8), ('LoomScript', 7), ('RUNOFF', 7), ('TI Program', 7), ('Berry', 6), ('Boogie', 6), ('JSON', 6), ('Velocity Template Language', 6), ('Odin', 6), ('RPGLE', 6), ('Futhark', 5), ('Q#', 5), ('Macaulay2', 5), ('Cadence', 5), ('KakouneScript', 5), ('ZAP', 4), ('Portugol', 4), ('Beef', 4), ('Wren', 4), ('Wollok', 4), ('SugarSS', 4), ('hoon', 3), ('Yul', 3), ('Ring', 3), ('mcfunction', 3), ('GAML', 3), ('NetLinx+ERB', 3), ('Adblock Filter List', 2), ('CSON', 2), ('Smithy', 2), ('Whiley', 2), ('Dafny', 2), ('Gleam', 2), ('Move', 2), ('PDDL', 2), ('Polar', 2), ('Curry', 1), ('INI', 1), ('BrighterScript', 1), ('OpenAPI Specification v2', 1), ('Bikeshed', 1), ('Cairo', 1), ('DenizenScript', 1), ('Ink', 1), ('Imba', 1), ('SVG', 1), ('KiCad Schematic', 1), ('Vyper', 1), ('just', 1), ('NWScript', 1), ('reStructuredText', 1), ('Mint', 1), ('Org', 1)]\n"
     ]
    }
   ],
   "source": [
    "print(sorted_Languages_counts)"
   ]
  },
  {
   "cell_type": "code",
   "execution_count": 25,
   "id": "11dbc7a9-59a4-4b9e-b348-c7924b49bdf0",
   "metadata": {
    "collapsed": true,
    "jupyter": {
     "outputs_hidden": true
    },
    "tags": []
   },
   "outputs": [
    {
     "data": {
      "text/plain": [
       "([<matplotlib.axis.XTick at 0x33bd92020>,\n",
       "  <matplotlib.axis.XTick at 0x33bd91ff0>,\n",
       "  <matplotlib.axis.XTick at 0x33bd91ed0>,\n",
       "  <matplotlib.axis.XTick at 0x33c26e800>,\n",
       "  <matplotlib.axis.XTick at 0x33c26ef50>,\n",
       "  <matplotlib.axis.XTick at 0x33c26f6a0>,\n",
       "  <matplotlib.axis.XTick at 0x33c26fdf0>,\n",
       "  <matplotlib.axis.XTick at 0x33bbac580>,\n",
       "  <matplotlib.axis.XTick at 0x33c26fe50>,\n",
       "  <matplotlib.axis.XTick at 0x33c26ece0>,\n",
       "  <matplotlib.axis.XTick at 0x33bbac5e0>,\n",
       "  <matplotlib.axis.XTick at 0x33bbad390>,\n",
       "  <matplotlib.axis.XTick at 0x33bbadae0>,\n",
       "  <matplotlib.axis.XTick at 0x33bbae230>,\n",
       "  <matplotlib.axis.XTick at 0x33bbae980>,\n",
       "  <matplotlib.axis.XTick at 0x33c26f310>,\n",
       "  <matplotlib.axis.XTick at 0x33bbadfc0>,\n",
       "  <matplotlib.axis.XTick at 0x33bbac1c0>,\n",
       "  <matplotlib.axis.XTick at 0x33bbaf5e0>,\n",
       "  <matplotlib.axis.XTick at 0x33bbafd30>,\n",
       "  <matplotlib.axis.XTick at 0x33bbdc4c0>,\n",
       "  <matplotlib.axis.XTick at 0x33bbdcc10>,\n",
       "  <matplotlib.axis.XTick at 0x33bbaf9d0>,\n",
       "  <matplotlib.axis.XTick at 0x33bbade70>,\n",
       "  <matplotlib.axis.XTick at 0x33bbdc250>,\n",
       "  <matplotlib.axis.XTick at 0x33bbdd750>,\n",
       "  <matplotlib.axis.XTick at 0x33bbddea0>,\n",
       "  <matplotlib.axis.XTick at 0x33bbde5f0>,\n",
       "  <matplotlib.axis.XTick at 0x33bbded40>,\n",
       "  <matplotlib.axis.XTick at 0x33bbdee00>,\n",
       "  <matplotlib.axis.XTick at 0x33bbdded0>,\n",
       "  <matplotlib.axis.XTick at 0x33bbdf130>,\n",
       "  <matplotlib.axis.XTick at 0x33bbdf880>,\n",
       "  <matplotlib.axis.XTick at 0x33bc040a0>,\n",
       "  <matplotlib.axis.XTick at 0x33bc04760>,\n",
       "  <matplotlib.axis.XTick at 0x33bbdfc10>,\n",
       "  <matplotlib.axis.XTick at 0x33bbdd3c0>,\n",
       "  <matplotlib.axis.XTick at 0x33bc04b50>,\n",
       "  <matplotlib.axis.XTick at 0x33bc05330>,\n",
       "  <matplotlib.axis.XTick at 0x33bc05a80>,\n",
       "  <matplotlib.axis.XTick at 0x33bc061d0>,\n",
       "  <matplotlib.axis.XTick at 0x33bc06920>,\n",
       "  <matplotlib.axis.XTick at 0x33bbdd6c0>,\n",
       "  <matplotlib.axis.XTick at 0x33bc06200>,\n",
       "  <matplotlib.axis.XTick at 0x33bc043d0>,\n",
       "  <matplotlib.axis.XTick at 0x33bc07580>,\n",
       "  <matplotlib.axis.XTick at 0x33bc07cd0>,\n",
       "  <matplotlib.axis.XTick at 0x33bba4460>,\n",
       "  <matplotlib.axis.XTick at 0x33bba4bb0>,\n",
       "  <matplotlib.axis.XTick at 0x33bc07940>,\n",
       "  <matplotlib.axis.XTick at 0x33bc06230>,\n",
       "  <matplotlib.axis.XTick at 0x33bbaffa0>,\n",
       "  <matplotlib.axis.XTick at 0x33bba46d0>,\n",
       "  <matplotlib.axis.XTick at 0x33bba5540>,\n",
       "  <matplotlib.axis.XTick at 0x33bba5c90>,\n",
       "  <matplotlib.axis.XTick at 0x33bba63e0>,\n",
       "  <matplotlib.axis.XTick at 0x33bc06b90>,\n",
       "  <matplotlib.axis.XTick at 0x33bba5c60>,\n",
       "  <matplotlib.axis.XTick at 0x33bba67d0>,\n",
       "  <matplotlib.axis.XTick at 0x33bba6f20>,\n",
       "  <matplotlib.axis.XTick at 0x33bba7670>,\n",
       "  <matplotlib.axis.XTick at 0x33bba7dc0>,\n",
       "  <matplotlib.axis.XTick at 0x33bba7e20>,\n",
       "  <matplotlib.axis.XTick at 0x33bba6cb0>,\n",
       "  <matplotlib.axis.XTick at 0x33bbaec20>,\n",
       "  <matplotlib.axis.XTick at 0x33bc0c9d0>,\n",
       "  <matplotlib.axis.XTick at 0x33bc0d120>,\n",
       "  <matplotlib.axis.XTick at 0x33bc0d870>,\n",
       "  <matplotlib.axis.XTick at 0x33bc0dfc0>,\n",
       "  <matplotlib.axis.XTick at 0x33bba51e0>,\n",
       "  <matplotlib.axis.XTick at 0x33bc0db10>,\n",
       "  <matplotlib.axis.XTick at 0x33bc0c760>,\n",
       "  <matplotlib.axis.XTick at 0x33bc0ec20>,\n",
       "  <matplotlib.axis.XTick at 0x33bc0f370>,\n",
       "  <matplotlib.axis.XTick at 0x33bc0fac0>,\n",
       "  <matplotlib.axis.XTick at 0x33bc48250>,\n",
       "  <matplotlib.axis.XTick at 0x33bc0faf0>,\n",
       "  <matplotlib.axis.XTick at 0x33bc0e770>,\n",
       "  <matplotlib.axis.XTick at 0x33bc48220>,\n",
       "  <matplotlib.axis.XTick at 0x33bc48d90>,\n",
       "  <matplotlib.axis.XTick at 0x33bc494e0>,\n",
       "  <matplotlib.axis.XTick at 0x33bc49c30>,\n",
       "  <matplotlib.axis.XTick at 0x33bc4a380>,\n",
       "  <matplotlib.axis.XTick at 0x33bc0efb0>,\n",
       "  <matplotlib.axis.XTick at 0x33bc49750>,\n",
       "  <matplotlib.axis.XTick at 0x33bc4a770>,\n",
       "  <matplotlib.axis.XTick at 0x33bc4aec0>,\n",
       "  <matplotlib.axis.XTick at 0x33bc4b610>,\n",
       "  <matplotlib.axis.XTick at 0x33bc4bd60>,\n",
       "  <matplotlib.axis.XTick at 0x33bc4bd90>,\n",
       "  <matplotlib.axis.XTick at 0x33bc4ac20>,\n",
       "  <matplotlib.axis.XTick at 0x33bc0f130>,\n",
       "  <matplotlib.axis.XTick at 0x33bb90970>,\n",
       "  <matplotlib.axis.XTick at 0x33bb910c0>,\n",
       "  <matplotlib.axis.XTick at 0x33bb91810>,\n",
       "  <matplotlib.axis.XTick at 0x33bb91f60>,\n",
       "  <matplotlib.axis.XTick at 0x33bc48b20>,\n",
       "  <matplotlib.axis.XTick at 0x33bb91ab0>,\n",
       "  <matplotlib.axis.XTick at 0x33bb90700>,\n",
       "  <matplotlib.axis.XTick at 0x33bb92bc0>,\n",
       "  <matplotlib.axis.XTick at 0x33bb93310>,\n",
       "  <matplotlib.axis.XTick at 0x33bb93a60>,\n",
       "  <matplotlib.axis.XTick at 0x33bbe01f0>,\n",
       "  <matplotlib.axis.XTick at 0x33bb93a90>,\n",
       "  <matplotlib.axis.XTick at 0x33bb92710>,\n",
       "  <matplotlib.axis.XTick at 0x33bbe01c0>,\n",
       "  <matplotlib.axis.XTick at 0x33bbe0d30>,\n",
       "  <matplotlib.axis.XTick at 0x33bbe1480>,\n",
       "  <matplotlib.axis.XTick at 0x33bbe1bd0>,\n",
       "  <matplotlib.axis.XTick at 0x33bbe2320>,\n",
       "  <matplotlib.axis.XTick at 0x33bb92f50>,\n",
       "  <matplotlib.axis.XTick at 0x33bbe16f0>,\n",
       "  <matplotlib.axis.XTick at 0x33bbe2710>,\n",
       "  <matplotlib.axis.XTick at 0x33bbe2e60>,\n",
       "  <matplotlib.axis.XTick at 0x33bbe35b0>,\n",
       "  <matplotlib.axis.XTick at 0x33bbe3d00>,\n",
       "  <matplotlib.axis.XTick at 0x33bbe3df0>,\n",
       "  <matplotlib.axis.XTick at 0x33bbe2e90>,\n",
       "  <matplotlib.axis.XTick at 0x33bb93340>,\n",
       "  <matplotlib.axis.XTick at 0x33bbb8910>,\n",
       "  <matplotlib.axis.XTick at 0x33bbb9060>,\n",
       "  <matplotlib.axis.XTick at 0x33bbb97b0>,\n",
       "  <matplotlib.axis.XTick at 0x33bbb9f00>,\n",
       "  <matplotlib.axis.XTick at 0x33bbe02b0>,\n",
       "  <matplotlib.axis.XTick at 0x33bbb9a20>,\n",
       "  <matplotlib.axis.XTick at 0x33bbb8670>,\n",
       "  <matplotlib.axis.XTick at 0x33bbbab60>,\n",
       "  <matplotlib.axis.XTick at 0x33bbbb2b0>,\n",
       "  <matplotlib.axis.XTick at 0x33bbbba00>,\n",
       "  <matplotlib.axis.XTick at 0x33bbc8190>,\n",
       "  <matplotlib.axis.XTick at 0x33bbbba30>,\n",
       "  <matplotlib.axis.XTick at 0x33bbba6b0>,\n",
       "  <matplotlib.axis.XTick at 0x33bbe3670>,\n",
       "  <matplotlib.axis.XTick at 0x33bb905b0>,\n",
       "  <matplotlib.axis.XTick at 0x33bbc8160>,\n",
       "  <matplotlib.axis.XTick at 0x33bbc8c40>,\n",
       "  <matplotlib.axis.XTick at 0x33bbc9390>,\n",
       "  <matplotlib.axis.XTick at 0x33bbe04c0>,\n",
       "  <matplotlib.axis.XTick at 0x33bbc9450>,\n",
       "  <matplotlib.axis.XTick at 0x33bbc9780>,\n",
       "  <matplotlib.axis.XTick at 0x33bbc9ed0>,\n",
       "  <matplotlib.axis.XTick at 0x33bbca620>,\n",
       "  <matplotlib.axis.XTick at 0x33bbcad70>,\n",
       "  <matplotlib.axis.XTick at 0x33bbba6e0>,\n",
       "  <matplotlib.axis.XTick at 0x33bbcad40>,\n",
       "  <matplotlib.axis.XTick at 0x33bbc9b10>,\n",
       "  <matplotlib.axis.XTick at 0x33bbcb940>,\n",
       "  <matplotlib.axis.XTick at 0x33bc900d0>,\n",
       "  <matplotlib.axis.XTick at 0x33bc90820>,\n",
       "  <matplotlib.axis.XTick at 0x33bc90f70>,\n",
       "  <matplotlib.axis.XTick at 0x33bbcb8b0>,\n",
       "  <matplotlib.axis.XTick at 0x33bbcae60>,\n",
       "  <matplotlib.axis.XTick at 0x33bc90370>,\n",
       "  <matplotlib.axis.XTick at 0x33bc91bd0>,\n",
       "  <matplotlib.axis.XTick at 0x33bc92320>],\n",
       " [Text(0, 0, 'JavaScript'),\n",
       "  Text(1, 0, 'CSS'),\n",
       "  Text(2, 0, 'HTML'),\n",
       "  Text(3, 0, 'Shell'),\n",
       "  Text(4, 0, 'Python'),\n",
       "  Text(5, 0, 'Ruby'),\n",
       "  Text(6, 0, 'Java'),\n",
       "  Text(7, 0, 'PHP'),\n",
       "  Text(8, 0, 'C'),\n",
       "  Text(9, 0, 'C++'),\n",
       "  Text(10, 0, 'Makefile'),\n",
       "  Text(11, 0, 'Objective-C'),\n",
       "  Text(12, 0, 'C#'),\n",
       "  Text(13, 0, 'Perl'),\n",
       "  Text(14, 0, 'Batchfile'),\n",
       "  Text(15, 0, 'Go'),\n",
       "  Text(16, 0, 'CoffeeScript'),\n",
       "  Text(17, 0, 'ApacheConf'),\n",
       "  Text(18, 0, 'CMake'),\n",
       "  Text(19, 0, 'TypeScript'),\n",
       "  Text(20, 0, 'Assembly'),\n",
       "  Text(21, 0, 'Swift'),\n",
       "  Text(22, 0, 'Scala'),\n",
       "  Text(23, 0, 'Lua'),\n",
       "  Text(24, 0, 'PowerShell'),\n",
       "  Text(25, 0, 'ASP'),\n",
       "  Text(26, 0, 'XSLT'),\n",
       "  Text(27, 0, 'TeX'),\n",
       "  Text(28, 0, 'Haskell'),\n",
       "  Text(29, 0, 'R'),\n",
       "  Text(30, 0, 'Groovy'),\n",
       "  Text(31, 0, 'Dockerfile'),\n",
       "  Text(32, 0, 'Clojure'),\n",
       "  Text(33, 0, 'Groff'),\n",
       "  Text(34, 0, 'Awk'),\n",
       "  Text(35, 0, 'Arduino'),\n",
       "  Text(36, 0, 'VimL'),\n",
       "  Text(37, 0, 'Objective-C++'),\n",
       "  Text(38, 0, 'Matlab'),\n",
       "  Text(39, 0, 'QMake'),\n",
       "  Text(40, 0, 'Smarty'),\n",
       "  Text(41, 0, 'Jupyter Notebook'),\n",
       "  Text(42, 0, 'Emacs Lisp'),\n",
       "  Text(43, 0, 'Rust'),\n",
       "  Text(44, 0, 'M4'),\n",
       "  Text(45, 0, 'Puppet'),\n",
       "  Text(46, 0, 'Erlang'),\n",
       "  Text(47, 0, 'GLSL'),\n",
       "  Text(48, 0, 'Yacc'),\n",
       "  Text(49, 0, 'Scilab'),\n",
       "  Text(50, 0, 'Lex'),\n",
       "  Text(51, 0, 'Roff'),\n",
       "  Text(52, 0, 'Protocol Buffer'),\n",
       "  Text(53, 0, 'Prolog'),\n",
       "  Text(54, 0, 'Visual Basic'),\n",
       "  Text(55, 0, 'Pascal'),\n",
       "  Text(56, 0, 'SCSS'),\n",
       "  Text(57, 0, 'UnrealScript'),\n",
       "  Text(58, 0, 'PLpgSQL'),\n",
       "  Text(59, 0, 'Vim script'),\n",
       "  Text(60, 0, 'SourcePawn'),\n",
       "  Text(61, 0, 'ActionScript'),\n",
       "  Text(62, 0, 'Vue'),\n",
       "  Text(63, 0, 'Nginx'),\n",
       "  Text(64, 0, 'Tcl'),\n",
       "  Text(65, 0, 'NSIS'),\n",
       "  Text(66, 0, 'Kotlin'),\n",
       "  Text(67, 0, 'Handlebars'),\n",
       "  Text(68, 0, 'Cucumber'),\n",
       "  Text(69, 0, 'Scheme'),\n",
       "  Text(70, 0, 'D'),\n",
       "  Text(71, 0, 'Elixir'),\n",
       "  Text(72, 0, 'Processing'),\n",
       "  Text(73, 0, 'PLSQL'),\n",
       "  Text(74, 0, 'Julia'),\n",
       "  Text(75, 0, 'F#'),\n",
       "  Text(76, 0, 'Dart'),\n",
       "  Text(77, 0, 'Common Lisp'),\n",
       "  Text(78, 0, 'OCaml'),\n",
       "  Text(79, 0, 'Smalltalk'),\n",
       "  Text(80, 0, 'IDL'),\n",
       "  Text(81, 0, 'Perl6'),\n",
       "  Text(82, 0, 'QML'),\n",
       "  Text(83, 0, 'SQLPL'),\n",
       "  Text(84, 0, 'M'),\n",
       "  Text(85, 0, 'Gherkin'),\n",
       "  Text(86, 0, 'Logos'),\n",
       "  Text(87, 0, 'Cuda'),\n",
       "  Text(88, 0, 'Mako'),\n",
       "  Text(89, 0, 'PostScript'),\n",
       "  Text(90, 0, 'GAP'),\n",
       "  Text(91, 0, 'AppleScript'),\n",
       "  Text(92, 0, 'DIGITAL Command Language'),\n",
       "  Text(93, 0, 'Racket'),\n",
       "  Text(94, 0, 'Inno Setup'),\n",
       "  Text(95, 0, 'SuperCollider'),\n",
       "  Text(96, 0, 'FORTRAN'),\n",
       "  Text(97, 0, 'Bison'),\n",
       "  Text(98, 0, 'FreeMarker'),\n",
       "  Text(99, 0, 'Thrift'),\n",
       "  Text(100, 0, 'Hack'),\n",
       "  Text(101, 0, 'Haxe'),\n",
       "  Text(102, 0, 'Gnuplot'),\n",
       "  Text(103, 0, 'TSQL'),\n",
       "  Text(104, 0, 'HCL'),\n",
       "  Text(105, 0, 'Verilog'),\n",
       "  Text(106, 0, 'DOT'),\n",
       "  Text(107, 0, 'Less'),\n",
       "  Text(108, 0, 'ANTLR'),\n",
       "  Text(109, 0, 'Elm'),\n",
       "  Text(110, 0, 'MATLAB'),\n",
       "  Text(111, 0, 'Fortran'),\n",
       "  Text(112, 0, 'Nix'),\n",
       "  Text(113, 0, 'XML'),\n",
       "  Text(114, 0, 'Mathematica'),\n",
       "  Text(115, 0, 'GDB'),\n",
       "  Text(116, 0, 'OpenEdge ABL'),\n",
       "  Text(117, 0, 'Standard ML'),\n",
       "  Text(118, 0, 'LiveScript'),\n",
       "  Text(119, 0, 'Ada'),\n",
       "  Text(120, 0, 'VHDL'),\n",
       "  Text(121, 0, 'DTrace'),\n",
       "  Text(122, 0, 'Eagle'),\n",
       "  Text(123, 0, 'ColdFusion'),\n",
       "  Text(124, 0, 'Vala'),\n",
       "  Text(125, 0, 'Perl 6'),\n",
       "  Text(126, 0, 'XS'),\n",
       "  Text(127, 0, 'Forth'),\n",
       "  Text(128, 0, 'OpenSCAD'),\n",
       "  Text(129, 0, 'Vim Script'),\n",
       "  Text(130, 0, 'SaltStack'),\n",
       "  Text(131, 0, 'HLSL'),\n",
       "  Text(132, 0, 'Rebol'),\n",
       "  Text(133, 0, 'AutoHotkey'),\n",
       "  Text(134, 0, 'SAS'),\n",
       "  Text(135, 0, 'LLVM'),\n",
       "  Text(136, 0, 'Module Management System'),\n",
       "  Text(137, 0, 'Procfile'),\n",
       "  Text(138, 0, 'Starlark'),\n",
       "  Text(139, 0, 'ShaderLab'),\n",
       "  Text(140, 0, 'Crystal'),\n",
       "  Text(141, 0, 'Meson'),\n",
       "  Text(142, 0, 'XQuery'),\n",
       "  Text(143, 0, 'Jinja'),\n",
       "  Text(144, 0, 'KiCad'),\n",
       "  Text(145, 0, 'sed'),\n",
       "  Text(146, 0, 'SystemVerilog'),\n",
       "  Text(147, 0, 'BitBake'),\n",
       "  Text(148, 0, 'Stata'),\n",
       "  Text(149, 0, 'Max'),\n",
       "  Text(150, 0, 'Liquid'),\n",
       "  Text(151, 0, 'Coq'),\n",
       "  Text(152, 0, 'Rich Text Format'),\n",
       "  Text(153, 0, 'CLIPS'),\n",
       "  Text(154, 0, 'eC')])"
      ]
     },
     "execution_count": 25,
     "metadata": {},
     "output_type": "execute_result"
    },
    {
     "data": {
      "image/png": "[encoded data removed]",
      "text/plain": [
       "<Figure size 864x576 with 1 Axes>"
      ]
     },
     "metadata": {
      "needs_background": "light"
     },
     "output_type": "display_data"
    }
   ],
   "source": [
    "\n",
    "language = list(zip(*sorted_Languages_counts[:155]))[0]\n",
    "count = list(zip(*sorted_Languages_counts[:155]))[1]\n",
    "x_pos = np.arange(len(language))\n",
    "\n",
    "plt.figure(figsize=(12,8))\n",
    "# plt.plot(x_pos, trendline, color='black', linestyle='--')    \n",
    "plt.bar(x_pos, count,align='center',color=sns.color_palette(\"gist_rainbow\",len(x_pos)))\n",
    "plt.xticks(x_pos, language,rotation=30, fontsize=25) \n",
    "# plt.xlabel(fontsize=40)\n",
    "# plt.title('Language Popularity Score')\n",
    "# plt.savefig('github-language-popularity.svg',transparent=True);"
   ]
  },
  {
   "cell_type": "code",
   "execution_count": 37,
   "id": "03b321a5-e78a-4453-8757-48274a6e9684",
   "metadata": {},
   "outputs": [
    {
     "data": {
      "image/png": "[encoded data removed]",
      "text/plain": [
       "<Figure size 504x360 with 1 Axes>"
      ]
     },
     "metadata": {
      "needs_background": "light"
     },
     "output_type": "display_data"
    }
   ],
   "source": [
    "# Calculate the total count for all languages\n",
    "total_count = sum(count for _, count in sorted_Languages_counts)\n",
    "\n",
    "# Find the index of Verilog\n",
    "verilog_index = next(i for i, v in enumerate(sorted_Languages_counts) if v[0] == 'Verilog')\n",
    "\n",
    "# Number of initial languages to display\n",
    "initial_display_count = 5\n",
    "\n",
    "# Create a new list with the first few languages, placeholder, and Verilog\n",
    "selected_languages_counts = sorted_Languages_counts[:initial_display_count] + [('...', 0), sorted_Languages_counts[verilog_index]]\n",
    "\n",
    "# Unpack languages and counts\n",
    "language, count = zip(*selected_languages_counts)\n",
    "x_pos = np.arange(len(language))\n",
    "\n",
    "# Plot\n",
    "plt.figure(figsize=(7,5))\n",
    "bars = plt.bar(x_pos, count, align='center', color=sns.color_palette(\"gist_rainbow\", len(x_pos)))\n",
    "plt.xticks(x_pos, language, rotation=15, fontsize=25)\n",
    "\n",
    "# Annotate bars with percentage\n",
    "for idx, bar in enumerate(bars):\n",
    "    height = bar.get_height()\n",
    "    percentage = (height / total_count) * 100\n",
    "    if language[idx] == 'Verilog':  # Highlight Verilog\n",
    "        plt.text(bar.get_x() + bar.get_width() / 2, height, f'{percentage:.2f}%', ha='center', va='bottom', fontsize=20, fontweight='bold', color='red')\n",
    "    elif language[idx] != '...':  # Avoid annotating '...'\n",
    "        plt.text(bar.get_x() + bar.get_width() / 2, height, f'{percentage:.2f}%', ha='center', va='bottom', fontsize=15)\n",
    "\n",
    "plt.show()"
   ]
  },
  {
   "cell_type": "code",
   "execution_count": 53,
   "id": "9efed6f4-535a-4e65-8afe-8712abcf6152",
   "metadata": {},
   "outputs": [
    {
     "data": {
      "image/png": "[encoded data removed]",
      "text/plain": [
       "<Figure size 432x216 with 1 Axes>"
      ]
     },
     "metadata": {
      "needs_background": "light"
     },
     "output_type": "display_data"
    }
   ],
   "source": [
    "# Updating the data to reflect the change for JavaScript to JS\n",
    "updated_sorted_Languages_counts = [(('JS' if lang == 'JavaScript' else lang), count) for lang, count in sorted_Languages_counts]\n",
    "\n",
    "# Find the index of Verilog in the updated list\n",
    "verilog_index = next(i for i, v in enumerate(updated_sorted_Languages_counts) if v[0] == 'Verilog')\n",
    "\n",
    "# Number of initial languages to display\n",
    "initial_display_count = 5\n",
    "\n",
    "# Create a new list with the first few languages, placeholder, and Verilog\n",
    "selected_languages_counts = updated_sorted_Languages_counts[:initial_display_count] + [('...', 0), updated_sorted_Languages_counts[verilog_index]]\n",
    "\n",
    "# Unpack languages and counts\n",
    "language, count = zip(*selected_languages_counts)\n",
    "x_pos = np.arange(len(language))\n",
    "\n",
    "# Plot\n",
    "plt.figure(figsize=(6,3))\n",
    "bars = plt.bar(x_pos, count, align='center', color=sns.color_palette(\"gist_rainbow\", len(x_pos)))\n",
    "\n",
    "# Annotate bars with percentage\n",
    "for idx, bar in enumerate(bars):\n",
    "    height = bar.get_height()\n",
    "    percentage = (height / total_count) * 100\n",
    "    if language[idx] == 'Verilog':  # Highlight Verilog\n",
    "        plt.text(bar.get_x() + bar.get_width() / 2, height, f'{percentage:.2f}%', ha='center', va='bottom', fontsize=20, fontweight='bold', color='red')\n",
    "    elif language[idx] != '...':  # Avoid annotating '...'\n",
    "        plt.text(bar.get_x() + bar.get_width() / 2, height, f'{percentage:.2f}%', ha='center', va='bottom', fontsize=13)\n",
    "\n",
    "plt.yticks( fontsize=15)\n",
    "\n",
    "plt.xticks(x_pos, language, rotation=30, fontsize=15)\n",
    "plt.savefig('github-language-popularity.svg', bbox_inches='tight');\n",
    "plt.savefig('github-language-popularity.pdf');\n",
    "\n",
    "plt.show()\n"
   ]
  },
  {
   "cell_type": "code",
   "execution_count": 22,
   "id": "6ca4e607-e14f-4573-8d69-ceae41414a2c",
   "metadata": {},
   "outputs": [
    {
     "data": {
      "text/plain": [
       "'/Users/shailjathakur'"
      ]
     },
     "execution_count": 22,
     "metadata": {},
     "output_type": "execute_result"
    }
   ],
   "source": [
    "pwd"
   ]
  },
  {
   "cell_type": "code",
   "execution_count": 55,
   "id": "2d4f4dff-9146-42ac-8e36-14f532070be4",
   "metadata": {},
   "outputs": [],
   "source": [
    "# verilog from stack overflow"
   ]
  },
  {
   "cell_type": "code",
   "execution_count": 56,
   "id": "29e76e66-6be3-4f5f-aac8-eafdfd80bf33",
   "metadata": {},
   "outputs": [],
   "source": [
    "query_string = \"\"\"\n",
    "SELECT\n",
    "CONCAT(\n",
    "    'https://stackoverflow.com/questions/',\n",
    "    CAST(id as STRING)) as url,\n",
    "view_count\n",
    "FROM `bigquery-public-data.stackoverflow.posts_questions`\n",
    "WHERE ((tags like '%verilog%')\n",
    "or (tags like '%beginmodule%' and tags like '%endmodule%' and tags like '%always%')\n",
    ")\n",
    "ORDER BY view_count DESC\n",
    "\"\"\""
   ]
  },
  {
   "cell_type": "code",
   "execution_count": 71,
   "id": "69966ed6-3d84-4d5d-9e49-f4846b416fac",
   "metadata": {},
   "outputs": [
    {
     "data": {
      "text/plain": [
       "<Figure size 432x288 with 0 Axes>"
      ]
     },
     "metadata": {},
     "output_type": "display_data"
    },
    {
     "data": {
      "image/png": "[encoded data removed]",
      "text/plain": [
       "<Figure size 432x288 with 1 Axes>"
      ]
     },
     "metadata": {},
     "output_type": "display_data"
    },
    {
     "data": {
      "text/plain": [
       "<Figure size 3600x3600 with 0 Axes>"
      ]
     },
     "metadata": {},
     "output_type": "display_data"
    }
   ],
   "source": [
    "import matplotlib.pyplot as plt\n",
    "explode = (0, 0.1)  # only \"explode\" the 2nd slice (i.e. 'Hogs')\n",
    "labels = 'Unique', 'Plagiarised'\n",
    "sizes = [15, 30]\n",
    "fig = plt.gcf()\n",
    "fig, ax = plt.subplots()\n",
    "plt.figure(figsize=(50,50))\n",
    "\n",
    "ax.pie(sizes, explode=explode, labels=labels,colors=['green', 'red'], autopct='%1.1f%%',\n",
    "        shadow=True, startangle=90,wedgeprops={'alpha':0.6})\n",
    "# plt.savefig('pie_plagiarism.svg',transparent=True,bbox_inches='tight', format=\"svg\")\n",
    "plt.savefig('pie_plagiarism.png',transparent=True,bbox_inches='tight')\n",
    "\n",
    "# plt.show()"
   ]
  },
  {
   "cell_type": "code",
   "execution_count": null,
   "id": "516209f7-d79c-41ee-ac3b-f8d45a6b9f1f",
   "metadata": {},
   "outputs": [],
   "source": []
  }
 ],
 "metadata": {
  "kernelspec": {
   "display_name": "Python [conda env:verilog_gpt]",
   "language": "python",
   "name": "conda-env-verilog_gpt-py"
  },
  "language_info": {
   "codemirror_mode": {
    "name": "ipython",
    "version": 3
   },
   "file_extension": ".py",
   "mimetype": "text/x-python",
   "name": "python",
   "nbconvert_exporter": "python",
   "pygments_lexer": "ipython3",
   "version": "3.10.2"
  }
 },
 "nbformat": 4,
 "nbformat_minor": 5
}
